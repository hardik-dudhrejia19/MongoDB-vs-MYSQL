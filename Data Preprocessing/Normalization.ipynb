{
 "cells": [
  {
   "cell_type": "markdown",
   "metadata": {},
   "source": [
    "# Importing the required libraries"
   ]
  },
  {
   "cell_type": "code",
   "execution_count": 1,
   "metadata": {},
   "outputs": [],
   "source": [
    "import MySQLdb\n",
    "import pandas as pd"
   ]
  },
  {
   "cell_type": "markdown",
   "metadata": {},
   "source": [
    "# Creating connection with sql database"
   ]
  },
  {
   "cell_type": "code",
   "execution_count": 2,
   "metadata": {},
   "outputs": [],
   "source": [
    "connection = MySQLdb.connect (host = \"localhost\", user = \"root\", passwd = \"\", db = \"geo_before_norm\")\n",
    "cursor = connection.cursor ()"
   ]
  },
  {
   "cell_type": "markdown",
   "metadata": {},
   "source": [
    "# Removing the transitive dependency between GEO and DGUID"
   ]
  },
  {
   "cell_type": "code",
   "execution_count": 3,
   "metadata": {},
   "outputs": [],
   "source": [
    "cursor.execute (\"select distinct GEO from jobs\")\n",
    "data = cursor.fetchall ()\n",
    "\n",
    "geoLocationList = []\n",
    "for location in data:\n",
    "    geoLocationList.append(location[0])\n",
    "\n",
    "cursor.execute(\"select distinct DGUID from jobs\")\n",
    "dguiddata = cursor.fetchall()\n",
    "DGUIDList = []\n",
    "for value in dguiddata:\n",
    "    DGUIDList.append(value[0])"
   ]
  },
  {
   "cell_type": "markdown",
   "metadata": {},
   "source": [
    "# Creating the new csv file for the new table"
   ]
  },
  {
   "cell_type": "code",
   "execution_count": 4,
   "metadata": {},
   "outputs": [],
   "source": [
    "finalList =  [\"geo_location,dguid_value\"]\n",
    "for index in range(len(geoLocationList)):\n",
    "    line = \"{},{}\".format(geoLocationList[index],DGUIDList[index])\n",
    "    finalList.append(line)"
   ]
  },
  {
   "cell_type": "markdown",
   "metadata": {},
   "source": [
    "# Writing it to the file"
   ]
  },
  {
   "cell_type": "code",
   "execution_count": 5,
   "metadata": {},
   "outputs": [],
   "source": [
    "result = \"\\n\".join(finalList)\n",
    "fout = open(\"C:\\\\Users\\\\Hardik\\\\Desktop\\\\GEONorm.csv\",\"w\")\n",
    "fout.write(result)\n",
    "fout.close()"
   ]
  },
  {
   "cell_type": "markdown",
   "metadata": {},
   "source": [
    "# Removing the second transitive dependency between UOM_ID, UOM, SCALAR_FACTOR and SCALAR_ID"
   ]
  },
  {
   "cell_type": "code",
   "execution_count": 6,
   "metadata": {},
   "outputs": [],
   "source": [
    "cursor.execute(\"select distinct UOM from jobs\")\n",
    "uomdata = cursor.fetchall()\n",
    "UOMList = []\n",
    "for value in uomdata:\n",
    "    UOMList.append(value[0])\n",
    "    \n",
    "cursor.execute(\"select distinct UOM_ID from jobs\")\n",
    "uomiddata = cursor.fetchall()\n",
    "UOMIDList = []\n",
    "for value in uomiddata:\n",
    "    UOMIDList.append(value[0])\n",
    "    \n",
    "cursor.execute(\"select distinct SCALAR_FACTOR from jobs\")\n",
    "sfdata = cursor.fetchall()\n",
    "SFList = []\n",
    "for value in sfdata:\n",
    "    SFList.append(value[0])\n",
    "    \n",
    "cursor.execute(\"select distinct SCALAR_ID from jobs\")\n",
    "siddata = cursor.fetchall()\n",
    "SIDList = []\n",
    "for value in siddata:\n",
    "    SIDList.append(value[0])"
   ]
  },
  {
   "cell_type": "markdown",
   "metadata": {},
   "source": [
    "# Creating the new csv file for the new table"
   ]
  },
  {
   "cell_type": "code",
   "execution_count": 7,
   "metadata": {},
   "outputs": [],
   "source": [
    "finalList =  [\"uom_id,uom,scale_factor,scale_id\"]\n",
    "for index in range(len(UOMIDList)):\n",
    "    line = \"{},{},{},{}\".format(UOMIDList[index],UOMList[index],SFList[index],SIDList[index])\n",
    "    finalList.append(line)\n",
    "result = \"\\n\".join(finalList)"
   ]
  },
  {
   "cell_type": "markdown",
   "metadata": {},
   "source": [
    "# Writing it to the file "
   ]
  },
  {
   "cell_type": "code",
   "execution_count": 8,
   "metadata": {},
   "outputs": [],
   "source": [
    "fout = open(\"C:\\\\Users\\\\Hardik\\\\Desktop\\\\UOMNorm.csv\",\"w\")\n",
    "fout.write(result)\n",
    "fout.close()"
   ]
  },
  {
   "cell_type": "markdown",
   "metadata": {},
   "source": [
    "# Now removing the non attributes from the main file that causes transitive dependecy as we have already created a separate table for them"
   ]
  },
  {
   "cell_type": "code",
   "execution_count": 9,
   "metadata": {},
   "outputs": [],
   "source": [
    "df = pd.read_csv(\"C:\\\\Users\\\\Hardik\\\\Desktop\\\\data.csv\")"
   ]
  },
  {
   "cell_type": "code",
   "execution_count": 10,
   "metadata": {},
   "outputs": [
    {
     "data": {
      "text/html": [
       "<div>\n",
       "<style scoped>\n",
       "    .dataframe tbody tr th:only-of-type {\n",
       "        vertical-align: middle;\n",
       "    }\n",
       "\n",
       "    .dataframe tbody tr th {\n",
       "        vertical-align: top;\n",
       "    }\n",
       "\n",
       "    .dataframe thead th {\n",
       "        text-align: right;\n",
       "    }\n",
       "</style>\n",
       "<table border=\"1\" class=\"dataframe\">\n",
       "  <thead>\n",
       "    <tr style=\"text-align: right;\">\n",
       "      <th></th>\n",
       "      <th>ID</th>\n",
       "      <th>REF_DATE</th>\n",
       "      <th>GEO</th>\n",
       "      <th>DGUID</th>\n",
       "      <th>Job vacancy statistics</th>\n",
       "      <th>North American Industry Classification System (NAICS)</th>\n",
       "      <th>UOM</th>\n",
       "      <th>UOM_ID</th>\n",
       "      <th>SCALAR_FACTOR</th>\n",
       "      <th>SCALAR_ID</th>\n",
       "      <th>VECTOR</th>\n",
       "      <th>COORDINATE</th>\n",
       "      <th>VALUE</th>\n",
       "      <th>STATUS</th>\n",
       "      <th>DECIMALS</th>\n",
       "    </tr>\n",
       "  </thead>\n",
       "  <tbody>\n",
       "    <tr>\n",
       "      <th>0</th>\n",
       "      <td>0</td>\n",
       "      <td>2011-03</td>\n",
       "      <td>Canada</td>\n",
       "      <td>2016A000011124</td>\n",
       "      <td>Number of job vacancies</td>\n",
       "      <td>Industrial aggregate excluding unclassified bu...</td>\n",
       "      <td>Number</td>\n",
       "      <td>223</td>\n",
       "      <td>thousands</td>\n",
       "      <td>3</td>\n",
       "      <td>v65956923</td>\n",
       "      <td>1.1.2</td>\n",
       "      <td>229.8</td>\n",
       "      <td>A</td>\n",
       "      <td>1</td>\n",
       "    </tr>\n",
       "    <tr>\n",
       "      <th>1</th>\n",
       "      <td>1</td>\n",
       "      <td>2011-03</td>\n",
       "      <td>Canada</td>\n",
       "      <td>2016A000011124</td>\n",
       "      <td>Number of job vacancies</td>\n",
       "      <td>Forestry, logging and support [11N]</td>\n",
       "      <td>Number</td>\n",
       "      <td>223</td>\n",
       "      <td>thousands</td>\n",
       "      <td>3</td>\n",
       "      <td>v65956922</td>\n",
       "      <td>1.1.4</td>\n",
       "      <td>NaN</td>\n",
       "      <td>F</td>\n",
       "      <td>1</td>\n",
       "    </tr>\n",
       "    <tr>\n",
       "      <th>2</th>\n",
       "      <td>2</td>\n",
       "      <td>2011-03</td>\n",
       "      <td>Canada</td>\n",
       "      <td>2016A000011124</td>\n",
       "      <td>Number of job vacancies</td>\n",
       "      <td>Mining, quarrying, and oil and gas extraction ...</td>\n",
       "      <td>Number</td>\n",
       "      <td>223</td>\n",
       "      <td>thousands</td>\n",
       "      <td>3</td>\n",
       "      <td>v65956924</td>\n",
       "      <td>1.1.10</td>\n",
       "      <td>4.3</td>\n",
       "      <td>D</td>\n",
       "      <td>1</td>\n",
       "    </tr>\n",
       "    <tr>\n",
       "      <th>3</th>\n",
       "      <td>3</td>\n",
       "      <td>2011-03</td>\n",
       "      <td>Canada</td>\n",
       "      <td>2016A000011124</td>\n",
       "      <td>Number of job vacancies</td>\n",
       "      <td>Utilities [22]</td>\n",
       "      <td>Number</td>\n",
       "      <td>223</td>\n",
       "      <td>thousands</td>\n",
       "      <td>3</td>\n",
       "      <td>v65956925</td>\n",
       "      <td>1.1.17</td>\n",
       "      <td>NaN</td>\n",
       "      <td>F</td>\n",
       "      <td>1</td>\n",
       "    </tr>\n",
       "    <tr>\n",
       "      <th>4</th>\n",
       "      <td>4</td>\n",
       "      <td>2011-03</td>\n",
       "      <td>Canada</td>\n",
       "      <td>2016A000011124</td>\n",
       "      <td>Number of job vacancies</td>\n",
       "      <td>Construction [23]</td>\n",
       "      <td>Number</td>\n",
       "      <td>223</td>\n",
       "      <td>thousands</td>\n",
       "      <td>3</td>\n",
       "      <td>v65956926</td>\n",
       "      <td>1.1.21</td>\n",
       "      <td>11.7</td>\n",
       "      <td>D</td>\n",
       "      <td>1</td>\n",
       "    </tr>\n",
       "  </tbody>\n",
       "</table>\n",
       "</div>"
      ],
      "text/plain": [
       "   ID REF_DATE     GEO           DGUID   Job vacancy statistics  \\\n",
       "0   0  2011-03  Canada  2016A000011124  Number of job vacancies   \n",
       "1   1  2011-03  Canada  2016A000011124  Number of job vacancies   \n",
       "2   2  2011-03  Canada  2016A000011124  Number of job vacancies   \n",
       "3   3  2011-03  Canada  2016A000011124  Number of job vacancies   \n",
       "4   4  2011-03  Canada  2016A000011124  Number of job vacancies   \n",
       "\n",
       "  North American Industry Classification System (NAICS)     UOM  UOM_ID  \\\n",
       "0  Industrial aggregate excluding unclassified bu...     Number     223   \n",
       "1                Forestry, logging and support [11N]     Number     223   \n",
       "2  Mining, quarrying, and oil and gas extraction ...     Number     223   \n",
       "3                                     Utilities [22]     Number     223   \n",
       "4                                  Construction [23]     Number     223   \n",
       "\n",
       "  SCALAR_FACTOR  SCALAR_ID     VECTOR COORDINATE  VALUE STATUS  DECIMALS  \n",
       "0     thousands          3  v65956923      1.1.2  229.8      A         1  \n",
       "1     thousands          3  v65956922      1.1.4    NaN      F         1  \n",
       "2     thousands          3  v65956924     1.1.10    4.3      D         1  \n",
       "3     thousands          3  v65956925     1.1.17    NaN      F         1  \n",
       "4     thousands          3  v65956926     1.1.21   11.7      D         1  "
      ]
     },
     "execution_count": 10,
     "metadata": {},
     "output_type": "execute_result"
    }
   ],
   "source": [
    "df.head()"
   ]
  },
  {
   "cell_type": "code",
   "execution_count": 11,
   "metadata": {},
   "outputs": [],
   "source": [
    "toDrop = [\"DGUID\",\"UOM\",\"SCALAR_FACTOR\",\"SCALAR_ID\",\"ID\"]\n",
    "df = df.drop(toDrop, axis = 1)"
   ]
  },
  {
   "cell_type": "code",
   "execution_count": 12,
   "metadata": {},
   "outputs": [
    {
     "data": {
      "text/html": [
       "<div>\n",
       "<style scoped>\n",
       "    .dataframe tbody tr th:only-of-type {\n",
       "        vertical-align: middle;\n",
       "    }\n",
       "\n",
       "    .dataframe tbody tr th {\n",
       "        vertical-align: top;\n",
       "    }\n",
       "\n",
       "    .dataframe thead th {\n",
       "        text-align: right;\n",
       "    }\n",
       "</style>\n",
       "<table border=\"1\" class=\"dataframe\">\n",
       "  <thead>\n",
       "    <tr style=\"text-align: right;\">\n",
       "      <th></th>\n",
       "      <th>REF_DATE</th>\n",
       "      <th>GEO</th>\n",
       "      <th>Job vacancy statistics</th>\n",
       "      <th>North American Industry Classification System (NAICS)</th>\n",
       "      <th>UOM_ID</th>\n",
       "      <th>VECTOR</th>\n",
       "      <th>COORDINATE</th>\n",
       "      <th>VALUE</th>\n",
       "      <th>STATUS</th>\n",
       "      <th>DECIMALS</th>\n",
       "    </tr>\n",
       "  </thead>\n",
       "  <tbody>\n",
       "    <tr>\n",
       "      <th>0</th>\n",
       "      <td>2011-03</td>\n",
       "      <td>Canada</td>\n",
       "      <td>Number of job vacancies</td>\n",
       "      <td>Industrial aggregate excluding unclassified bu...</td>\n",
       "      <td>223</td>\n",
       "      <td>v65956923</td>\n",
       "      <td>1.1.2</td>\n",
       "      <td>229.8</td>\n",
       "      <td>A</td>\n",
       "      <td>1</td>\n",
       "    </tr>\n",
       "    <tr>\n",
       "      <th>1</th>\n",
       "      <td>2011-03</td>\n",
       "      <td>Canada</td>\n",
       "      <td>Number of job vacancies</td>\n",
       "      <td>Forestry, logging and support [11N]</td>\n",
       "      <td>223</td>\n",
       "      <td>v65956922</td>\n",
       "      <td>1.1.4</td>\n",
       "      <td>NaN</td>\n",
       "      <td>F</td>\n",
       "      <td>1</td>\n",
       "    </tr>\n",
       "    <tr>\n",
       "      <th>2</th>\n",
       "      <td>2011-03</td>\n",
       "      <td>Canada</td>\n",
       "      <td>Number of job vacancies</td>\n",
       "      <td>Mining, quarrying, and oil and gas extraction ...</td>\n",
       "      <td>223</td>\n",
       "      <td>v65956924</td>\n",
       "      <td>1.1.10</td>\n",
       "      <td>4.3</td>\n",
       "      <td>D</td>\n",
       "      <td>1</td>\n",
       "    </tr>\n",
       "    <tr>\n",
       "      <th>3</th>\n",
       "      <td>2011-03</td>\n",
       "      <td>Canada</td>\n",
       "      <td>Number of job vacancies</td>\n",
       "      <td>Utilities [22]</td>\n",
       "      <td>223</td>\n",
       "      <td>v65956925</td>\n",
       "      <td>1.1.17</td>\n",
       "      <td>NaN</td>\n",
       "      <td>F</td>\n",
       "      <td>1</td>\n",
       "    </tr>\n",
       "    <tr>\n",
       "      <th>4</th>\n",
       "      <td>2011-03</td>\n",
       "      <td>Canada</td>\n",
       "      <td>Number of job vacancies</td>\n",
       "      <td>Construction [23]</td>\n",
       "      <td>223</td>\n",
       "      <td>v65956926</td>\n",
       "      <td>1.1.21</td>\n",
       "      <td>11.7</td>\n",
       "      <td>D</td>\n",
       "      <td>1</td>\n",
       "    </tr>\n",
       "  </tbody>\n",
       "</table>\n",
       "</div>"
      ],
      "text/plain": [
       "  REF_DATE     GEO   Job vacancy statistics  \\\n",
       "0  2011-03  Canada  Number of job vacancies   \n",
       "1  2011-03  Canada  Number of job vacancies   \n",
       "2  2011-03  Canada  Number of job vacancies   \n",
       "3  2011-03  Canada  Number of job vacancies   \n",
       "4  2011-03  Canada  Number of job vacancies   \n",
       "\n",
       "  North American Industry Classification System (NAICS)  UOM_ID     VECTOR  \\\n",
       "0  Industrial aggregate excluding unclassified bu...        223  v65956923   \n",
       "1                Forestry, logging and support [11N]        223  v65956922   \n",
       "2  Mining, quarrying, and oil and gas extraction ...        223  v65956924   \n",
       "3                                     Utilities [22]        223  v65956925   \n",
       "4                                  Construction [23]        223  v65956926   \n",
       "\n",
       "  COORDINATE  VALUE STATUS  DECIMALS  \n",
       "0      1.1.2  229.8      A         1  \n",
       "1      1.1.4    NaN      F         1  \n",
       "2     1.1.10    4.3      D         1  \n",
       "3     1.1.17    NaN      F         1  \n",
       "4     1.1.21   11.7      D         1  "
      ]
     },
     "execution_count": 12,
     "metadata": {},
     "output_type": "execute_result"
    }
   ],
   "source": [
    "df.head()"
   ]
  },
  {
   "cell_type": "markdown",
   "metadata": {},
   "source": [
    "# Creating a new table for this normalized csv file"
   ]
  },
  {
   "cell_type": "code",
   "execution_count": 14,
   "metadata": {},
   "outputs": [],
   "source": [
    "df.to_csv(\"C:\\\\Users\\\\Hardik\\\\Desktop\\\\norm_data.csv\")"
   ]
  },
  {
   "cell_type": "code",
   "execution_count": null,
   "metadata": {},
   "outputs": [],
   "source": []
  }
 ],
 "metadata": {
  "kernelspec": {
   "display_name": "Python 3",
   "language": "python",
   "name": "python3"
  },
  "language_info": {
   "codemirror_mode": {
    "name": "ipython",
    "version": 3
   },
   "file_extension": ".py",
   "mimetype": "text/x-python",
   "name": "python",
   "nbconvert_exporter": "python",
   "pygments_lexer": "ipython3",
   "version": "3.7.3"
  }
 },
 "nbformat": 4,
 "nbformat_minor": 2
}
