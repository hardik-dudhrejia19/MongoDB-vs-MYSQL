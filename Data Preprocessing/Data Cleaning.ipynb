{
 "cells": [
  {
   "cell_type": "code",
   "execution_count": 1,
   "metadata": {},
   "outputs": [],
   "source": [
    "import pandas as pd"
   ]
  },
  {
   "cell_type": "code",
   "execution_count": 3,
   "metadata": {},
   "outputs": [],
   "source": [
    "df = pd.read_csv(\"C:\\\\Users\\\\Hardik\\\\Desktop\\\\New folder\\\\data.csv\")"
   ]
  },
  {
   "cell_type": "code",
   "execution_count": 4,
   "metadata": {},
   "outputs": [
    {
     "data": {
      "text/html": [
       "<div>\n",
       "<style scoped>\n",
       "    .dataframe tbody tr th:only-of-type {\n",
       "        vertical-align: middle;\n",
       "    }\n",
       "\n",
       "    .dataframe tbody tr th {\n",
       "        vertical-align: top;\n",
       "    }\n",
       "\n",
       "    .dataframe thead th {\n",
       "        text-align: right;\n",
       "    }\n",
       "</style>\n",
       "<table border=\"1\" class=\"dataframe\">\n",
       "  <thead>\n",
       "    <tr style=\"text-align: right;\">\n",
       "      <th></th>\n",
       "      <th>REF_DATE</th>\n",
       "      <th>GEO</th>\n",
       "      <th>DGUID</th>\n",
       "      <th>Job vacancy statistics</th>\n",
       "      <th>North American Industry Classification System (NAICS)</th>\n",
       "      <th>UOM</th>\n",
       "      <th>UOM_ID</th>\n",
       "      <th>SCALAR_FACTOR</th>\n",
       "      <th>SCALAR_ID</th>\n",
       "      <th>VECTOR</th>\n",
       "      <th>COORDINATE</th>\n",
       "      <th>VALUE</th>\n",
       "      <th>STATUS</th>\n",
       "      <th>SYMBOL</th>\n",
       "      <th>TERMINATED</th>\n",
       "      <th>DECIMALS</th>\n",
       "    </tr>\n",
       "  </thead>\n",
       "  <tbody>\n",
       "    <tr>\n",
       "      <th>0</th>\n",
       "      <td>2011-03</td>\n",
       "      <td>Canada</td>\n",
       "      <td>2016A000011124</td>\n",
       "      <td>Number of job vacancies</td>\n",
       "      <td>Industrial aggregate excluding unclassified bu...</td>\n",
       "      <td>Number</td>\n",
       "      <td>223</td>\n",
       "      <td>thousands</td>\n",
       "      <td>3</td>\n",
       "      <td>v65956923</td>\n",
       "      <td>1.1.2</td>\n",
       "      <td>229.8</td>\n",
       "      <td>A</td>\n",
       "      <td>NaN</td>\n",
       "      <td>NaN</td>\n",
       "      <td>1</td>\n",
       "    </tr>\n",
       "    <tr>\n",
       "      <th>1</th>\n",
       "      <td>2011-03</td>\n",
       "      <td>Canada</td>\n",
       "      <td>2016A000011124</td>\n",
       "      <td>Number of job vacancies</td>\n",
       "      <td>Forestry, logging and support [11N]</td>\n",
       "      <td>Number</td>\n",
       "      <td>223</td>\n",
       "      <td>thousands</td>\n",
       "      <td>3</td>\n",
       "      <td>v65956922</td>\n",
       "      <td>1.1.4</td>\n",
       "      <td>NaN</td>\n",
       "      <td>F</td>\n",
       "      <td>NaN</td>\n",
       "      <td>NaN</td>\n",
       "      <td>1</td>\n",
       "    </tr>\n",
       "    <tr>\n",
       "      <th>2</th>\n",
       "      <td>2011-03</td>\n",
       "      <td>Canada</td>\n",
       "      <td>2016A000011124</td>\n",
       "      <td>Number of job vacancies</td>\n",
       "      <td>Mining, quarrying, and oil and gas extraction ...</td>\n",
       "      <td>Number</td>\n",
       "      <td>223</td>\n",
       "      <td>thousands</td>\n",
       "      <td>3</td>\n",
       "      <td>v65956924</td>\n",
       "      <td>1.1.10</td>\n",
       "      <td>4.3</td>\n",
       "      <td>D</td>\n",
       "      <td>NaN</td>\n",
       "      <td>NaN</td>\n",
       "      <td>1</td>\n",
       "    </tr>\n",
       "    <tr>\n",
       "      <th>3</th>\n",
       "      <td>2011-03</td>\n",
       "      <td>Canada</td>\n",
       "      <td>2016A000011124</td>\n",
       "      <td>Number of job vacancies</td>\n",
       "      <td>Utilities [22]</td>\n",
       "      <td>Number</td>\n",
       "      <td>223</td>\n",
       "      <td>thousands</td>\n",
       "      <td>3</td>\n",
       "      <td>v65956925</td>\n",
       "      <td>1.1.17</td>\n",
       "      <td>NaN</td>\n",
       "      <td>F</td>\n",
       "      <td>NaN</td>\n",
       "      <td>NaN</td>\n",
       "      <td>1</td>\n",
       "    </tr>\n",
       "    <tr>\n",
       "      <th>4</th>\n",
       "      <td>2011-03</td>\n",
       "      <td>Canada</td>\n",
       "      <td>2016A000011124</td>\n",
       "      <td>Number of job vacancies</td>\n",
       "      <td>Construction [23]</td>\n",
       "      <td>Number</td>\n",
       "      <td>223</td>\n",
       "      <td>thousands</td>\n",
       "      <td>3</td>\n",
       "      <td>v65956926</td>\n",
       "      <td>1.1.21</td>\n",
       "      <td>11.7</td>\n",
       "      <td>D</td>\n",
       "      <td>NaN</td>\n",
       "      <td>NaN</td>\n",
       "      <td>1</td>\n",
       "    </tr>\n",
       "  </tbody>\n",
       "</table>\n",
       "</div>"
      ],
      "text/plain": [
       "  REF_DATE     GEO           DGUID   Job vacancy statistics  \\\n",
       "0  2011-03  Canada  2016A000011124  Number of job vacancies   \n",
       "1  2011-03  Canada  2016A000011124  Number of job vacancies   \n",
       "2  2011-03  Canada  2016A000011124  Number of job vacancies   \n",
       "3  2011-03  Canada  2016A000011124  Number of job vacancies   \n",
       "4  2011-03  Canada  2016A000011124  Number of job vacancies   \n",
       "\n",
       "  North American Industry Classification System (NAICS)     UOM  UOM_ID  \\\n",
       "0  Industrial aggregate excluding unclassified bu...     Number     223   \n",
       "1                Forestry, logging and support [11N]     Number     223   \n",
       "2  Mining, quarrying, and oil and gas extraction ...     Number     223   \n",
       "3                                     Utilities [22]     Number     223   \n",
       "4                                  Construction [23]     Number     223   \n",
       "\n",
       "  SCALAR_FACTOR  SCALAR_ID     VECTOR COORDINATE  VALUE STATUS  SYMBOL  \\\n",
       "0     thousands          3  v65956923      1.1.2  229.8      A     NaN   \n",
       "1     thousands          3  v65956922      1.1.4    NaN      F     NaN   \n",
       "2     thousands          3  v65956924     1.1.10    4.3      D     NaN   \n",
       "3     thousands          3  v65956925     1.1.17    NaN      F     NaN   \n",
       "4     thousands          3  v65956926     1.1.21   11.7      D     NaN   \n",
       "\n",
       "   TERMINATED  DECIMALS  \n",
       "0         NaN         1  \n",
       "1         NaN         1  \n",
       "2         NaN         1  \n",
       "3         NaN         1  \n",
       "4         NaN         1  "
      ]
     },
     "execution_count": 4,
     "metadata": {},
     "output_type": "execute_result"
    }
   ],
   "source": [
    "df.head()"
   ]
  },
  {
   "cell_type": "code",
   "execution_count": 5,
   "metadata": {},
   "outputs": [],
   "source": [
    "toDrop = [\"SYMBOL\",\"TERMINATED\"]"
   ]
  },
  {
   "cell_type": "code",
   "execution_count": 6,
   "metadata": {},
   "outputs": [
    {
     "data": {
      "text/plain": [
       "REF_DATE                                                     0\n",
       "GEO                                                          0\n",
       "DGUID                                                        0\n",
       "Job vacancy statistics                                       0\n",
       "North American Industry Classification System (NAICS)        0\n",
       "UOM                                                          0\n",
       "UOM_ID                                                       0\n",
       "SCALAR_FACTOR                                                0\n",
       "SCALAR_ID                                                    0\n",
       "VECTOR                                                       0\n",
       "COORDINATE                                                   0\n",
       "VALUE                                                    55068\n",
       "STATUS                                                       0\n",
       "SYMBOL                                                   88200\n",
       "TERMINATED                                               88200\n",
       "DECIMALS                                                     0\n",
       "dtype: int64"
      ]
     },
     "execution_count": 6,
     "metadata": {},
     "output_type": "execute_result"
    }
   ],
   "source": [
    "df.isnull().sum()"
   ]
  },
  {
   "cell_type": "markdown",
   "metadata": {},
   "source": [
    "# We can drop the entire column of SYMBOL and TERMINATED as it does not contain any data"
   ]
  },
  {
   "cell_type": "code",
   "execution_count": 7,
   "metadata": {},
   "outputs": [],
   "source": [
    "df = df.drop(toDrop, axis = 1)"
   ]
  },
  {
   "cell_type": "code",
   "execution_count": 8,
   "metadata": {},
   "outputs": [
    {
     "data": {
      "text/plain": [
       "REF_DATE                                                     0\n",
       "GEO                                                          0\n",
       "DGUID                                                        0\n",
       "Job vacancy statistics                                       0\n",
       "North American Industry Classification System (NAICS)        0\n",
       "UOM                                                          0\n",
       "UOM_ID                                                       0\n",
       "SCALAR_FACTOR                                                0\n",
       "SCALAR_ID                                                    0\n",
       "VECTOR                                                       0\n",
       "COORDINATE                                                   0\n",
       "VALUE                                                    55068\n",
       "STATUS                                                       0\n",
       "DECIMALS                                                     0\n",
       "dtype: int64"
      ]
     },
     "execution_count": 8,
     "metadata": {},
     "output_type": "execute_result"
    }
   ],
   "source": [
    "df.isnull().sum()"
   ]
  },
  {
   "cell_type": "markdown",
   "metadata": {},
   "source": [
    "# The column VALUE contains a large number of null values but we drop the null rows then the size of data gets reduced by 60%"
   ]
  },
  {
   "cell_type": "code",
   "execution_count": 9,
   "metadata": {},
   "outputs": [
    {
     "name": "stdout",
     "output_type": "stream",
     "text": [
      "<class 'pandas.core.frame.DataFrame'>\n",
      "RangeIndex: 88200 entries, 0 to 88199\n",
      "Data columns (total 14 columns):\n",
      "REF_DATE                                                 88200 non-null object\n",
      "GEO                                                      88200 non-null object\n",
      "DGUID                                                    88200 non-null object\n",
      "Job vacancy statistics                                   88200 non-null object\n",
      "North American Industry Classification System (NAICS)    88200 non-null object\n",
      "UOM                                                      88200 non-null object\n",
      "UOM_ID                                                   88200 non-null int64\n",
      "SCALAR_FACTOR                                            88200 non-null object\n",
      "SCALAR_ID                                                88200 non-null int64\n",
      "VECTOR                                                   88200 non-null object\n",
      "COORDINATE                                               88200 non-null object\n",
      "VALUE                                                    33132 non-null float64\n",
      "STATUS                                                   88200 non-null object\n",
      "DECIMALS                                                 88200 non-null int64\n",
      "dtypes: float64(1), int64(3), object(10)\n",
      "memory usage: 9.4+ MB\n"
     ]
    }
   ],
   "source": [
    "df.info()"
   ]
  },
  {
   "cell_type": "code",
   "execution_count": 10,
   "metadata": {},
   "outputs": [],
   "source": [
    "df.to_csv(\"C:\\\\Users\\\\Hardik\\\\Desktop\\\\data.csv\")"
   ]
  },
  {
   "cell_type": "code",
   "execution_count": null,
   "metadata": {},
   "outputs": [],
   "source": []
  }
 ],
 "metadata": {
  "kernelspec": {
   "display_name": "Python 3",
   "language": "python",
   "name": "python3"
  },
  "language_info": {
   "codemirror_mode": {
    "name": "ipython",
    "version": 3
   },
   "file_extension": ".py",
   "mimetype": "text/x-python",
   "name": "python",
   "nbconvert_exporter": "python",
   "pygments_lexer": "ipython3",
   "version": "3.7.3"
  }
 },
 "nbformat": 4,
 "nbformat_minor": 2
}
